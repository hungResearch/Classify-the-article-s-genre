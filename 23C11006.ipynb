{
  "nbformat": 4,
  "nbformat_minor": 0,
  "metadata": {
    "colab": {
      "provenance": [],
      "gpuType": "L4",
      "collapsed_sections": [
        "YCNjFppmiaDR",
        "-QgtYsJiKGUY",
        "T7FT7ZWVRDjI",
        "DjzqJyoPKyQ3",
        "s551PajSiRJZ"
      ]
    },
    "kernelspec": {
      "name": "python3",
      "display_name": "Python 3"
    },
    "language_info": {
      "name": "python"
    },
    "accelerator": "GPU"
  },
  "cells": [
    {
      "cell_type": "markdown",
      "source": [
        "# Import library"
      ],
      "metadata": {
        "id": "YCNjFppmiaDR"
      }
    },
    {
      "cell_type": "code",
      "source": [
        "!pip install underthesea"
      ],
      "metadata": {
        "colab": {
          "base_uri": "https://localhost:8080/"
        },
        "id": "Rki8w0eUES1q",
        "outputId": "c6e779ab-eb4f-4415-cdc6-4169e61bd7c9"
      },
      "execution_count": null,
      "outputs": [
        {
          "output_type": "stream",
          "name": "stdout",
          "text": [
            "Requirement already satisfied: underthesea in /usr/local/lib/python3.10/dist-packages (6.8.4)\n",
            "Requirement already satisfied: Click>=6.0 in /usr/local/lib/python3.10/dist-packages (from underthesea) (8.1.7)\n",
            "Requirement already satisfied: python-crfsuite>=0.9.6 in /usr/local/lib/python3.10/dist-packages (from underthesea) (0.9.10)\n",
            "Requirement already satisfied: nltk in /usr/local/lib/python3.10/dist-packages (from underthesea) (3.8.1)\n",
            "Requirement already satisfied: tqdm in /usr/local/lib/python3.10/dist-packages (from underthesea) (4.66.4)\n",
            "Requirement already satisfied: requests in /usr/local/lib/python3.10/dist-packages (from underthesea) (2.31.0)\n",
            "Requirement already satisfied: joblib in /usr/local/lib/python3.10/dist-packages (from underthesea) (1.4.2)\n",
            "Requirement already satisfied: scikit-learn in /usr/local/lib/python3.10/dist-packages (from underthesea) (1.2.2)\n",
            "Requirement already satisfied: PyYAML in /usr/local/lib/python3.10/dist-packages (from underthesea) (6.0.1)\n",
            "Requirement already satisfied: underthesea-core==1.0.4 in /usr/local/lib/python3.10/dist-packages (from underthesea) (1.0.4)\n",
            "Requirement already satisfied: regex>=2021.8.3 in /usr/local/lib/python3.10/dist-packages (from nltk->underthesea) (2024.5.15)\n",
            "Requirement already satisfied: charset-normalizer<4,>=2 in /usr/local/lib/python3.10/dist-packages (from requests->underthesea) (3.3.2)\n",
            "Requirement already satisfied: idna<4,>=2.5 in /usr/local/lib/python3.10/dist-packages (from requests->underthesea) (3.7)\n",
            "Requirement already satisfied: urllib3<3,>=1.21.1 in /usr/local/lib/python3.10/dist-packages (from requests->underthesea) (2.0.7)\n",
            "Requirement already satisfied: certifi>=2017.4.17 in /usr/local/lib/python3.10/dist-packages (from requests->underthesea) (2024.6.2)\n",
            "Requirement already satisfied: numpy>=1.17.3 in /usr/local/lib/python3.10/dist-packages (from scikit-learn->underthesea) (1.25.2)\n",
            "Requirement already satisfied: scipy>=1.3.2 in /usr/local/lib/python3.10/dist-packages (from scikit-learn->underthesea) (1.11.4)\n",
            "Requirement already satisfied: threadpoolctl>=2.0.0 in /usr/local/lib/python3.10/dist-packages (from scikit-learn->underthesea) (3.5.0)\n"
          ]
        }
      ]
    },
    {
      "cell_type": "code",
      "execution_count": null,
      "metadata": {
        "id": "5btQw23Z165v"
      },
      "outputs": [],
      "source": [
        "from __future__ import print_function\n",
        "import numpy as np\n",
        "import pandas as pd\n",
        "from underthesea import word_tokenize"
      ]
    },
    {
      "cell_type": "code",
      "source": [
        "from keras.preprocessing import sequence\n",
        "from keras.models import Sequential, Model\n",
        "from keras.layers import Dense, Dropout, Activation, Lambda, Embedding, Convolution1D, LSTM, Concatenate, Input, TimeDistributed, Flatten\n",
        "from keras.datasets import imdb\n",
        "import keras.backend as K\n",
        "from keras.optimizers import Adadelta\n",
        "from keras.preprocessing import sequence as sq\n",
        "from keras.preprocessing.text import Tokenizer\n",
        "from keras.utils import to_categorical"
      ],
      "metadata": {
        "id": "gQBP10ZN589r"
      },
      "execution_count": 185,
      "outputs": []
    },
    {
      "cell_type": "code",
      "source": [
        "from sklearn import preprocessing\n",
        "import os\n",
        "import numpy as np\n",
        "from sklearn.feature_extraction.text import TfidfVectorizer\n",
        "from sklearn.model_selection import train_test_split"
      ],
      "metadata": {
        "id": "F2uRbmP0PsZn"
      },
      "execution_count": null,
      "outputs": []
    },
    {
      "cell_type": "markdown",
      "source": [
        "# Download raw data and handle word tokenize"
      ],
      "metadata": {
        "id": "-QgtYsJiKGUY"
      }
    },
    {
      "cell_type": "code",
      "source": [
        "!kaggle datasets download -d phamtheds/news-dataset-vietnameses\n",
        "!unzip -q /content/news-dataset-vietnameses"
      ],
      "metadata": {
        "colab": {
          "base_uri": "https://localhost:8080/"
        },
        "id": "wMhgg8PFKa_5",
        "outputId": "05791ca3-6e30-4753-802d-c662cc195c09"
      },
      "execution_count": null,
      "outputs": [
        {
          "output_type": "stream",
          "name": "stdout",
          "text": [
            "Dataset URL: https://www.kaggle.com/datasets/phamtheds/news-dataset-vietnameses\n",
            "License(s): copyright-authors\n",
            "Downloading news-dataset-vietnameses.zip to /content\n",
            "100% 307M/308M [00:04<00:00, 71.6MB/s]\n",
            "100% 308M/308M [00:04<00:00, 80.4MB/s]\n"
          ]
        }
      ]
    },
    {
      "cell_type": "code",
      "source": [
        "data = pd.read_csv('/content/Dataset_articles_NoID.csv', header=0)\n",
        "data"
      ],
      "metadata": {
        "id": "tXZlzpXlOBwY"
      },
      "execution_count": null,
      "outputs": []
    },
    {
      "cell_type": "code",
      "source": [
        "data_remove_summary_NaN = data.dropna(subset=[\"Summary\"])"
      ],
      "metadata": {
        "id": "MatmUEWERh3N"
      },
      "execution_count": null,
      "outputs": []
    },
    {
      "cell_type": "code",
      "source": [
        "data_remove_summary_NaN.isnull().any()"
      ],
      "metadata": {
        "colab": {
          "base_uri": "https://localhost:8080/"
        },
        "id": "pro4eionSFAh",
        "outputId": "18baf485-d9ac-45b9-a140-f83599c86e4b"
      },
      "execution_count": null,
      "outputs": [
        {
          "output_type": "execute_result",
          "data": {
            "text/plain": [
              "URL          False\n",
              "Title        False\n",
              "Summary      False\n",
              "Contents      True\n",
              "Date         False\n",
              "Author(s)     True\n",
              "Category     False\n",
              "Tags         False\n",
              "dtype: bool"
            ]
          },
          "metadata": {},
          "execution_count": 8
        }
      ]
    },
    {
      "cell_type": "code",
      "source": [
        "data_remove_summary_NaN.info()"
      ],
      "metadata": {
        "colab": {
          "base_uri": "https://localhost:8080/"
        },
        "id": "ELmiRe69Wm-p",
        "outputId": "9c34633a-28a0-433d-d4cc-4088383ad767"
      },
      "execution_count": null,
      "outputs": [
        {
          "output_type": "stream",
          "name": "stdout",
          "text": [
            "<class 'pandas.core.frame.DataFrame'>\n",
            "Index: 313140 entries, 0 to 313319\n",
            "Data columns (total 8 columns):\n",
            " #   Column     Non-Null Count   Dtype \n",
            "---  ------     --------------   ----- \n",
            " 0   URL        313140 non-null  object\n",
            " 1   Title      313140 non-null  object\n",
            " 2   Summary    313140 non-null  object\n",
            " 3   Contents   307598 non-null  object\n",
            " 4   Date       313140 non-null  object\n",
            " 5   Author(s)  312455 non-null  object\n",
            " 6   Category   313140 non-null  object\n",
            " 7   Tags       313140 non-null  object\n",
            "dtypes: object(8)\n",
            "memory usage: 21.5+ MB\n"
          ]
        }
      ]
    },
    {
      "cell_type": "code",
      "source": [
        "raw_data = data_remove_summary_NaN[[\"Summary\", \"Category\"]]"
      ],
      "metadata": {
        "id": "22IpNJFrWsv_"
      },
      "execution_count": null,
      "outputs": []
    },
    {
      "cell_type": "code",
      "source": [
        "raw_data"
      ],
      "metadata": {
        "colab": {
          "base_uri": "https://localhost:8080/",
          "height": 424
        },
        "id": "b42TCxUdaB1J",
        "outputId": "90178ced-7d5a-44bc-f318-c7e6f123282b"
      },
      "execution_count": null,
      "outputs": [
        {
          "output_type": "execute_result",
          "data": {
            "text/plain": [
              "                                                  Summary       Category\n",
              "0       Lâm Đồng - Lãnh đạo thành phố Bảo Lộc, Lâm Đồn...   Bất động sản\n",
              "1       TPHCM - Việc không thể cưỡng chế thuế của hai ...   Bất động sản\n",
              "2       Hiện trên địa bàn tỉnh Ninh Bình có 32 khu, cụ...   Bất động sản\n",
              "3       Hoàn công nhà ở với ý nghĩa là điều kiện để đư...   Bất động sản\n",
              "4       Có rất nhiều lý do khiến những dự án thấp nội ...   Bất động sản\n",
              "...                                                   ...            ...\n",
              "313315  Bà Dương Thị Tuyết ở thị trấn Khe Sanh, huyện ...  Tấm Lòng Vàng\n",
              "313316  Ngày 25.7, Đại diện Chương trình “Tấm lưới ngh...  Tin hoạt động\n",
              "313317  Ngày 17.7, lãnh đạo Quỹ TLV Lao Động và LĐLĐ t...  Tin hoạt động\n",
              "313318  Nhà báo Trần Đình Chính (tức Trần Hoài Thu) - ...  Tấm Lòng Vàng\n",
              "313319  Ngày 2.6, khi nhận được số tiền 500.000 đồng đ...        Quỹ TLV\n",
              "\n",
              "[313140 rows x 2 columns]"
            ],
            "text/html": [
              "\n",
              "  <div id=\"df-f421404c-a46b-4d9d-8f35-4cb8469558a8\" class=\"colab-df-container\">\n",
              "    <div>\n",
              "<style scoped>\n",
              "    .dataframe tbody tr th:only-of-type {\n",
              "        vertical-align: middle;\n",
              "    }\n",
              "\n",
              "    .dataframe tbody tr th {\n",
              "        vertical-align: top;\n",
              "    }\n",
              "\n",
              "    .dataframe thead th {\n",
              "        text-align: right;\n",
              "    }\n",
              "</style>\n",
              "<table border=\"1\" class=\"dataframe\">\n",
              "  <thead>\n",
              "    <tr style=\"text-align: right;\">\n",
              "      <th></th>\n",
              "      <th>Summary</th>\n",
              "      <th>Category</th>\n",
              "    </tr>\n",
              "  </thead>\n",
              "  <tbody>\n",
              "    <tr>\n",
              "      <th>0</th>\n",
              "      <td>Lâm Đồng - Lãnh đạo thành phố Bảo Lộc, Lâm Đồn...</td>\n",
              "      <td>Bất động sản</td>\n",
              "    </tr>\n",
              "    <tr>\n",
              "      <th>1</th>\n",
              "      <td>TPHCM - Việc không thể cưỡng chế thuế của hai ...</td>\n",
              "      <td>Bất động sản</td>\n",
              "    </tr>\n",
              "    <tr>\n",
              "      <th>2</th>\n",
              "      <td>Hiện trên địa bàn tỉnh Ninh Bình có 32 khu, cụ...</td>\n",
              "      <td>Bất động sản</td>\n",
              "    </tr>\n",
              "    <tr>\n",
              "      <th>3</th>\n",
              "      <td>Hoàn công nhà ở với ý nghĩa là điều kiện để đư...</td>\n",
              "      <td>Bất động sản</td>\n",
              "    </tr>\n",
              "    <tr>\n",
              "      <th>4</th>\n",
              "      <td>Có rất nhiều lý do khiến những dự án thấp nội ...</td>\n",
              "      <td>Bất động sản</td>\n",
              "    </tr>\n",
              "    <tr>\n",
              "      <th>...</th>\n",
              "      <td>...</td>\n",
              "      <td>...</td>\n",
              "    </tr>\n",
              "    <tr>\n",
              "      <th>313315</th>\n",
              "      <td>Bà Dương Thị Tuyết ở thị trấn Khe Sanh, huyện ...</td>\n",
              "      <td>Tấm Lòng Vàng</td>\n",
              "    </tr>\n",
              "    <tr>\n",
              "      <th>313316</th>\n",
              "      <td>Ngày 25.7, Đại diện Chương trình “Tấm lưới ngh...</td>\n",
              "      <td>Tin hoạt động</td>\n",
              "    </tr>\n",
              "    <tr>\n",
              "      <th>313317</th>\n",
              "      <td>Ngày 17.7, lãnh đạo Quỹ TLV Lao Động và LĐLĐ t...</td>\n",
              "      <td>Tin hoạt động</td>\n",
              "    </tr>\n",
              "    <tr>\n",
              "      <th>313318</th>\n",
              "      <td>Nhà báo Trần Đình Chính (tức Trần Hoài Thu) - ...</td>\n",
              "      <td>Tấm Lòng Vàng</td>\n",
              "    </tr>\n",
              "    <tr>\n",
              "      <th>313319</th>\n",
              "      <td>Ngày 2.6, khi nhận được số tiền 500.000 đồng đ...</td>\n",
              "      <td>Quỹ TLV</td>\n",
              "    </tr>\n",
              "  </tbody>\n",
              "</table>\n",
              "<p>313140 rows × 2 columns</p>\n",
              "</div>\n",
              "    <div class=\"colab-df-buttons\">\n",
              "\n",
              "  <div class=\"colab-df-container\">\n",
              "    <button class=\"colab-df-convert\" onclick=\"convertToInteractive('df-f421404c-a46b-4d9d-8f35-4cb8469558a8')\"\n",
              "            title=\"Convert this dataframe to an interactive table.\"\n",
              "            style=\"display:none;\">\n",
              "\n",
              "  <svg xmlns=\"http://www.w3.org/2000/svg\" height=\"24px\" viewBox=\"0 -960 960 960\">\n",
              "    <path d=\"M120-120v-720h720v720H120Zm60-500h600v-160H180v160Zm220 220h160v-160H400v160Zm0 220h160v-160H400v160ZM180-400h160v-160H180v160Zm440 0h160v-160H620v160ZM180-180h160v-160H180v160Zm440 0h160v-160H620v160Z\"/>\n",
              "  </svg>\n",
              "    </button>\n",
              "\n",
              "  <style>\n",
              "    .colab-df-container {\n",
              "      display:flex;\n",
              "      gap: 12px;\n",
              "    }\n",
              "\n",
              "    .colab-df-convert {\n",
              "      background-color: #E8F0FE;\n",
              "      border: none;\n",
              "      border-radius: 50%;\n",
              "      cursor: pointer;\n",
              "      display: none;\n",
              "      fill: #1967D2;\n",
              "      height: 32px;\n",
              "      padding: 0 0 0 0;\n",
              "      width: 32px;\n",
              "    }\n",
              "\n",
              "    .colab-df-convert:hover {\n",
              "      background-color: #E2EBFA;\n",
              "      box-shadow: 0px 1px 2px rgba(60, 64, 67, 0.3), 0px 1px 3px 1px rgba(60, 64, 67, 0.15);\n",
              "      fill: #174EA6;\n",
              "    }\n",
              "\n",
              "    .colab-df-buttons div {\n",
              "      margin-bottom: 4px;\n",
              "    }\n",
              "\n",
              "    [theme=dark] .colab-df-convert {\n",
              "      background-color: #3B4455;\n",
              "      fill: #D2E3FC;\n",
              "    }\n",
              "\n",
              "    [theme=dark] .colab-df-convert:hover {\n",
              "      background-color: #434B5C;\n",
              "      box-shadow: 0px 1px 3px 1px rgba(0, 0, 0, 0.15);\n",
              "      filter: drop-shadow(0px 1px 2px rgba(0, 0, 0, 0.3));\n",
              "      fill: #FFFFFF;\n",
              "    }\n",
              "  </style>\n",
              "\n",
              "    <script>\n",
              "      const buttonEl =\n",
              "        document.querySelector('#df-f421404c-a46b-4d9d-8f35-4cb8469558a8 button.colab-df-convert');\n",
              "      buttonEl.style.display =\n",
              "        google.colab.kernel.accessAllowed ? 'block' : 'none';\n",
              "\n",
              "      async function convertToInteractive(key) {\n",
              "        const element = document.querySelector('#df-f421404c-a46b-4d9d-8f35-4cb8469558a8');\n",
              "        const dataTable =\n",
              "          await google.colab.kernel.invokeFunction('convertToInteractive',\n",
              "                                                    [key], {});\n",
              "        if (!dataTable) return;\n",
              "\n",
              "        const docLinkHtml = 'Like what you see? Visit the ' +\n",
              "          '<a target=\"_blank\" href=https://colab.research.google.com/notebooks/data_table.ipynb>data table notebook</a>'\n",
              "          + ' to learn more about interactive tables.';\n",
              "        element.innerHTML = '';\n",
              "        dataTable['output_type'] = 'display_data';\n",
              "        await google.colab.output.renderOutput(dataTable, element);\n",
              "        const docLink = document.createElement('div');\n",
              "        docLink.innerHTML = docLinkHtml;\n",
              "        element.appendChild(docLink);\n",
              "      }\n",
              "    </script>\n",
              "  </div>\n",
              "\n",
              "\n",
              "<div id=\"df-f661ff00-74f1-4fbd-8b0f-65e0cddf3463\">\n",
              "  <button class=\"colab-df-quickchart\" onclick=\"quickchart('df-f661ff00-74f1-4fbd-8b0f-65e0cddf3463')\"\n",
              "            title=\"Suggest charts\"\n",
              "            style=\"display:none;\">\n",
              "\n",
              "<svg xmlns=\"http://www.w3.org/2000/svg\" height=\"24px\"viewBox=\"0 0 24 24\"\n",
              "     width=\"24px\">\n",
              "    <g>\n",
              "        <path d=\"M19 3H5c-1.1 0-2 .9-2 2v14c0 1.1.9 2 2 2h14c1.1 0 2-.9 2-2V5c0-1.1-.9-2-2-2zM9 17H7v-7h2v7zm4 0h-2V7h2v10zm4 0h-2v-4h2v4z\"/>\n",
              "    </g>\n",
              "</svg>\n",
              "  </button>\n",
              "\n",
              "<style>\n",
              "  .colab-df-quickchart {\n",
              "      --bg-color: #E8F0FE;\n",
              "      --fill-color: #1967D2;\n",
              "      --hover-bg-color: #E2EBFA;\n",
              "      --hover-fill-color: #174EA6;\n",
              "      --disabled-fill-color: #AAA;\n",
              "      --disabled-bg-color: #DDD;\n",
              "  }\n",
              "\n",
              "  [theme=dark] .colab-df-quickchart {\n",
              "      --bg-color: #3B4455;\n",
              "      --fill-color: #D2E3FC;\n",
              "      --hover-bg-color: #434B5C;\n",
              "      --hover-fill-color: #FFFFFF;\n",
              "      --disabled-bg-color: #3B4455;\n",
              "      --disabled-fill-color: #666;\n",
              "  }\n",
              "\n",
              "  .colab-df-quickchart {\n",
              "    background-color: var(--bg-color);\n",
              "    border: none;\n",
              "    border-radius: 50%;\n",
              "    cursor: pointer;\n",
              "    display: none;\n",
              "    fill: var(--fill-color);\n",
              "    height: 32px;\n",
              "    padding: 0;\n",
              "    width: 32px;\n",
              "  }\n",
              "\n",
              "  .colab-df-quickchart:hover {\n",
              "    background-color: var(--hover-bg-color);\n",
              "    box-shadow: 0 1px 2px rgba(60, 64, 67, 0.3), 0 1px 3px 1px rgba(60, 64, 67, 0.15);\n",
              "    fill: var(--button-hover-fill-color);\n",
              "  }\n",
              "\n",
              "  .colab-df-quickchart-complete:disabled,\n",
              "  .colab-df-quickchart-complete:disabled:hover {\n",
              "    background-color: var(--disabled-bg-color);\n",
              "    fill: var(--disabled-fill-color);\n",
              "    box-shadow: none;\n",
              "  }\n",
              "\n",
              "  .colab-df-spinner {\n",
              "    border: 2px solid var(--fill-color);\n",
              "    border-color: transparent;\n",
              "    border-bottom-color: var(--fill-color);\n",
              "    animation:\n",
              "      spin 1s steps(1) infinite;\n",
              "  }\n",
              "\n",
              "  @keyframes spin {\n",
              "    0% {\n",
              "      border-color: transparent;\n",
              "      border-bottom-color: var(--fill-color);\n",
              "      border-left-color: var(--fill-color);\n",
              "    }\n",
              "    20% {\n",
              "      border-color: transparent;\n",
              "      border-left-color: var(--fill-color);\n",
              "      border-top-color: var(--fill-color);\n",
              "    }\n",
              "    30% {\n",
              "      border-color: transparent;\n",
              "      border-left-color: var(--fill-color);\n",
              "      border-top-color: var(--fill-color);\n",
              "      border-right-color: var(--fill-color);\n",
              "    }\n",
              "    40% {\n",
              "      border-color: transparent;\n",
              "      border-right-color: var(--fill-color);\n",
              "      border-top-color: var(--fill-color);\n",
              "    }\n",
              "    60% {\n",
              "      border-color: transparent;\n",
              "      border-right-color: var(--fill-color);\n",
              "    }\n",
              "    80% {\n",
              "      border-color: transparent;\n",
              "      border-right-color: var(--fill-color);\n",
              "      border-bottom-color: var(--fill-color);\n",
              "    }\n",
              "    90% {\n",
              "      border-color: transparent;\n",
              "      border-bottom-color: var(--fill-color);\n",
              "    }\n",
              "  }\n",
              "</style>\n",
              "\n",
              "  <script>\n",
              "    async function quickchart(key) {\n",
              "      const quickchartButtonEl =\n",
              "        document.querySelector('#' + key + ' button');\n",
              "      quickchartButtonEl.disabled = true;  // To prevent multiple clicks.\n",
              "      quickchartButtonEl.classList.add('colab-df-spinner');\n",
              "      try {\n",
              "        const charts = await google.colab.kernel.invokeFunction(\n",
              "            'suggestCharts', [key], {});\n",
              "      } catch (error) {\n",
              "        console.error('Error during call to suggestCharts:', error);\n",
              "      }\n",
              "      quickchartButtonEl.classList.remove('colab-df-spinner');\n",
              "      quickchartButtonEl.classList.add('colab-df-quickchart-complete');\n",
              "    }\n",
              "    (() => {\n",
              "      let quickchartButtonEl =\n",
              "        document.querySelector('#df-f661ff00-74f1-4fbd-8b0f-65e0cddf3463 button');\n",
              "      quickchartButtonEl.style.display =\n",
              "        google.colab.kernel.accessAllowed ? 'block' : 'none';\n",
              "    })();\n",
              "  </script>\n",
              "</div>\n",
              "\n",
              "  <div id=\"id_ef78760d-9b49-4e0f-be61-ccda7ae07da7\">\n",
              "    <style>\n",
              "      .colab-df-generate {\n",
              "        background-color: #E8F0FE;\n",
              "        border: none;\n",
              "        border-radius: 50%;\n",
              "        cursor: pointer;\n",
              "        display: none;\n",
              "        fill: #1967D2;\n",
              "        height: 32px;\n",
              "        padding: 0 0 0 0;\n",
              "        width: 32px;\n",
              "      }\n",
              "\n",
              "      .colab-df-generate:hover {\n",
              "        background-color: #E2EBFA;\n",
              "        box-shadow: 0px 1px 2px rgba(60, 64, 67, 0.3), 0px 1px 3px 1px rgba(60, 64, 67, 0.15);\n",
              "        fill: #174EA6;\n",
              "      }\n",
              "\n",
              "      [theme=dark] .colab-df-generate {\n",
              "        background-color: #3B4455;\n",
              "        fill: #D2E3FC;\n",
              "      }\n",
              "\n",
              "      [theme=dark] .colab-df-generate:hover {\n",
              "        background-color: #434B5C;\n",
              "        box-shadow: 0px 1px 3px 1px rgba(0, 0, 0, 0.15);\n",
              "        filter: drop-shadow(0px 1px 2px rgba(0, 0, 0, 0.3));\n",
              "        fill: #FFFFFF;\n",
              "      }\n",
              "    </style>\n",
              "    <button class=\"colab-df-generate\" onclick=\"generateWithVariable('raw_data')\"\n",
              "            title=\"Generate code using this dataframe.\"\n",
              "            style=\"display:none;\">\n",
              "\n",
              "  <svg xmlns=\"http://www.w3.org/2000/svg\" height=\"24px\"viewBox=\"0 0 24 24\"\n",
              "       width=\"24px\">\n",
              "    <path d=\"M7,19H8.4L18.45,9,17,7.55,7,17.6ZM5,21V16.75L18.45,3.32a2,2,0,0,1,2.83,0l1.4,1.43a1.91,1.91,0,0,1,.58,1.4,1.91,1.91,0,0,1-.58,1.4L9.25,21ZM18.45,9,17,7.55Zm-12,3A5.31,5.31,0,0,0,4.9,8.1,5.31,5.31,0,0,0,1,6.5,5.31,5.31,0,0,0,4.9,4.9,5.31,5.31,0,0,0,6.5,1,5.31,5.31,0,0,0,8.1,4.9,5.31,5.31,0,0,0,12,6.5,5.46,5.46,0,0,0,6.5,12Z\"/>\n",
              "  </svg>\n",
              "    </button>\n",
              "    <script>\n",
              "      (() => {\n",
              "      const buttonEl =\n",
              "        document.querySelector('#id_ef78760d-9b49-4e0f-be61-ccda7ae07da7 button.colab-df-generate');\n",
              "      buttonEl.style.display =\n",
              "        google.colab.kernel.accessAllowed ? 'block' : 'none';\n",
              "\n",
              "      buttonEl.onclick = () => {\n",
              "        google.colab.notebook.generateWithVariable('raw_data');\n",
              "      }\n",
              "      })();\n",
              "    </script>\n",
              "  </div>\n",
              "\n",
              "    </div>\n",
              "  </div>\n"
            ],
            "application/vnd.google.colaboratory.intrinsic+json": {
              "type": "dataframe",
              "variable_name": "raw_data"
            }
          },
          "metadata": {},
          "execution_count": 13
        }
      ]
    },
    {
      "cell_type": "code",
      "source": [
        "import re\n",
        "def handle_sentence(raw_string):\n",
        "    print(\"handle for\", raw_string)\n",
        "    return word_tokenize(raw_string.replace(\"-\", \"\"), format=\"text\")"
      ],
      "metadata": {
        "id": "j38eq54q5-yY"
      },
      "execution_count": null,
      "outputs": []
    },
    {
      "cell_type": "code",
      "source": [
        "raw_data[\"Summary\"] = raw_data[\"Summary\"].apply(lambda content: handle_sentence(str(content)))"
      ],
      "metadata": {
        "id": "4GDP0Qw3YJgY"
      },
      "execution_count": null,
      "outputs": []
    },
    {
      "cell_type": "code",
      "source": [
        "raw_data.info()"
      ],
      "metadata": {
        "colab": {
          "base_uri": "https://localhost:8080/"
        },
        "id": "8pViE6sgOLWk",
        "outputId": "b23b4a4f-7ce6-4ebd-944a-de93830c15aa"
      },
      "execution_count": null,
      "outputs": [
        {
          "output_type": "stream",
          "name": "stdout",
          "text": [
            "<class 'pandas.core.frame.DataFrame'>\n",
            "Index: 313140 entries, 0 to 313319\n",
            "Data columns (total 2 columns):\n",
            " #   Column    Non-Null Count   Dtype \n",
            "---  ------    --------------   ----- \n",
            " 0   Summary   313140 non-null  object\n",
            " 1   Category  313140 non-null  object\n",
            "dtypes: object(2)\n",
            "memory usage: 7.2+ MB\n"
          ]
        }
      ]
    },
    {
      "cell_type": "code",
      "source": [
        "raw_data[:10000].to_csv(\"/content/processing_data.csv\", header=True, encoding=\"utf8\")"
      ],
      "metadata": {
        "id": "7YHFSd0c1CiC"
      },
      "execution_count": null,
      "outputs": []
    },
    {
      "cell_type": "markdown",
      "source": [
        "# Load processing data"
      ],
      "metadata": {
        "id": "T7FT7ZWVRDjI"
      }
    },
    {
      "cell_type": "code",
      "source": [
        "processing_data = pd.read_csv(\"/content/processing_data.csv\", index_col=0, names=[\"summary\", \"category\"])"
      ],
      "metadata": {
        "id": "nd6KcUzNQxIF"
      },
      "execution_count": null,
      "outputs": []
    },
    {
      "cell_type": "code",
      "source": [
        "label_encoder = preprocessing.LabelEncoder()\n",
        "list_label = set(processing_data[\"category\"])\n",
        "le = label_encoder.fit(processing_data[\"category\"])\n",
        "processing_data[\"category\"] = le.transform(processing_data[\"category\"])"
      ],
      "metadata": {
        "id": "08IaTF4mPXE3"
      },
      "execution_count": null,
      "outputs": []
    },
    {
      "cell_type": "code",
      "source": [
        "values_counts_of_category = processing_data[\"category\"].value_counts()"
      ],
      "metadata": {
        "id": "YgixQwQcOAN2"
      },
      "execution_count": null,
      "outputs": []
    },
    {
      "cell_type": "code",
      "source": [
        "values_counts_of_category"
      ],
      "metadata": {
        "colab": {
          "base_uri": "https://localhost:8080/"
        },
        "id": "rldBqURQdisL",
        "outputId": "d3df516d-0fa1-4d4a-a590-dbbd91477af5"
      },
      "execution_count": null,
      "outputs": [
        {
          "output_type": "execute_result",
          "data": {
            "text/plain": [
              "category\n",
              "1     6184\n",
              "14    3397\n",
              "4      242\n",
              "19      76\n",
              "5       22\n",
              "8       22\n",
              "0       20\n",
              "6        7\n",
              "16       5\n",
              "2        4\n",
              "12       4\n",
              "11       2\n",
              "9        2\n",
              "7        2\n",
              "10       2\n",
              "17       2\n",
              "3        2\n",
              "13       1\n",
              "18       1\n",
              "15       1\n",
              "Name: count, dtype: int64"
            ]
          },
          "metadata": {},
          "execution_count": 25
        }
      ]
    },
    {
      "cell_type": "code",
      "source": [
        "selected_label = list(values_counts_of_category[values_counts_of_category > 3000].index)"
      ],
      "metadata": {
        "id": "3ElSpJVuST1D"
      },
      "execution_count": 165,
      "outputs": []
    },
    {
      "cell_type": "code",
      "source": [
        "print(\"List of category which have number of new larger than 3000:\")\n",
        "list(le.inverse_transform(selected_label))"
      ],
      "metadata": {
        "colab": {
          "base_uri": "https://localhost:8080/"
        },
        "id": "KpGXqIxvMBFc",
        "outputId": "a2932100-bf31-4a80-f960-a36988cda1f1"
      },
      "execution_count": 166,
      "outputs": [
        {
          "output_type": "stream",
          "name": "stdout",
          "text": [
            "List of category which have number of new larger than 3000:\n"
          ]
        },
        {
          "output_type": "execute_result",
          "data": {
            "text/plain": [
              "['Bất động sản', 'Thời sự']"
            ]
          },
          "metadata": {},
          "execution_count": 166
        }
      ]
    },
    {
      "cell_type": "code",
      "source": [
        "selected_data = processing_data[processing_data[\"category\"].isin(selected_label)]"
      ],
      "metadata": {
        "id": "w6ZjjOzSdXDK"
      },
      "execution_count": 172,
      "outputs": []
    },
    {
      "cell_type": "code",
      "source": [
        "selected_data[\"category\"].unique()"
      ],
      "metadata": {
        "colab": {
          "base_uri": "https://localhost:8080/"
        },
        "id": "fVtwQOZU1jgG",
        "outputId": "13c605a0-5de3-4734-ccec-2d7e62d98505"
      },
      "execution_count": 175,
      "outputs": [
        {
          "output_type": "execute_result",
          "data": {
            "text/plain": [
              "array([ 1, 14])"
            ]
          },
          "metadata": {},
          "execution_count": 175
        }
      ]
    },
    {
      "cell_type": "markdown",
      "source": [
        "# Set parameters"
      ],
      "metadata": {
        "id": "DjzqJyoPKyQ3"
      }
    },
    {
      "cell_type": "code",
      "source": [
        "max_features = 21540\n",
        "maxlen = 400\n",
        "batch_size = 8\n",
        "embedding_dims = 200\n",
        "nb_filter = 150\n",
        "filter_length = 3\n",
        "hidden_dims = 100"
      ],
      "metadata": {
        "id": "9VP9tRc6DsC4"
      },
      "execution_count": 134,
      "outputs": []
    },
    {
      "cell_type": "markdown",
      "source": [
        "# Create Model"
      ],
      "metadata": {
        "id": "s551PajSiRJZ"
      }
    },
    {
      "cell_type": "code",
      "source": [
        "def max_1d(X):\n",
        "    return K.max(X, axis=1)"
      ],
      "metadata": {
        "id": "EAk1lwJxFWYv"
      },
      "execution_count": 135,
      "outputs": []
    },
    {
      "cell_type": "code",
      "source": [
        "def LSTM_and_CNN_model():\n",
        "    model = Sequential()\n",
        "\n",
        "    input_layer = Input(shape=(maxlen,), dtype='int32', name=\"main_input\")\n",
        "    emb_layer = Embedding(max_features,\n",
        "                          embedding_dims,\n",
        "                          input_length=maxlen\n",
        "                          )(input_layer)\n",
        "\n",
        "    # CNN block\n",
        "    con3_layer = Convolution1D(filters=nb_filter, kernel_size=3,\n",
        "                        padding='same',\n",
        "                        activation='relu',\n",
        "                        strides = 1\n",
        "                        )(emb_layer)\n",
        "    pool_con3_layer = Lambda(max_1d, output_shape=(nb_filter,))(con3_layer)\n",
        "\n",
        "    con4_layer = Convolution1D(filters=nb_filter, kernel_size=5,\n",
        "                        padding='same',\n",
        "                        activation='relu',\n",
        "                        strides = 1\n",
        "                        )(emb_layer)\n",
        "    pool_con4_layer = Lambda(max_1d, output_shape=(nb_filter,))(con4_layer)\n",
        "\n",
        "    con5_layer = Convolution1D(filters=nb_filter,\n",
        "                        kernel_size=7,\n",
        "                        padding='same',\n",
        "                        activation='relu',\n",
        "                        strides = 1\n",
        "                        )(emb_layer)\n",
        "    pool_con5_layer = Lambda(max_1d, output_shape=(nb_filter,))(con5_layer)\n",
        "\n",
        "    cnn_block = Concatenate()([pool_con3_layer, pool_con4_layer, pool_con5_layer])\n",
        "\n",
        "    # LSTM block\n",
        "    x = Embedding(max_features, embedding_dims, input_length=maxlen)(input_layer)\n",
        "    lstm_block = LSTM(128)(x)\n",
        "\n",
        "    cnn_lstm_block = Concatenate()([lstm_block, cnn_block])\n",
        "\n",
        "    dense_layer = Dense(hidden_dims*2, activation='sigmoid')(cnn_lstm_block)\n",
        "    output_layer = Dense(2, trainable=True, activation='softmax')(dense_layer)\n",
        "\n",
        "    model = Model(inputs=[input_layer], outputs=[output_layer])\n",
        "    adadelta = Adadelta(learning_rate=0.1, rho=0.95, epsilon=1e-06)\n",
        "    model.compile(loss='categorical_crossentropy',\n",
        "                  optimizer=\"adamax\",\n",
        "                  metrics=['accuracy'])\n",
        "\n",
        "    return model"
      ],
      "metadata": {
        "id": "4a4CH6Q5_8_x"
      },
      "execution_count": 219,
      "outputs": []
    },
    {
      "cell_type": "code",
      "source": [
        "model = LSTM_and_CNN_model()\n",
        "model.summary()"
      ],
      "metadata": {
        "colab": {
          "base_uri": "https://localhost:8080/"
        },
        "id": "npq4gMfXDYsu",
        "outputId": "4fa34e0b-d565-4c1b-be1a-3755955aabb9"
      },
      "execution_count": 220,
      "outputs": [
        {
          "output_type": "stream",
          "name": "stdout",
          "text": [
            "Model: \"model_26\"\n",
            "__________________________________________________________________________________________________\n",
            " Layer (type)                Output Shape                 Param #   Connected to                  \n",
            "==================================================================================================\n",
            " main_input (InputLayer)     [(None, 400)]                0         []                            \n",
            "                                                                                                  \n",
            " embedding_58 (Embedding)    (None, 400, 200)             4308000   ['main_input[0][0]']          \n",
            "                                                                                                  \n",
            " conv1d_81 (Conv1D)          (None, 400, 150)             90150     ['embedding_58[0][0]']        \n",
            "                                                                                                  \n",
            " conv1d_82 (Conv1D)          (None, 400, 150)             150150    ['embedding_58[0][0]']        \n",
            "                                                                                                  \n",
            " conv1d_83 (Conv1D)          (None, 400, 150)             210150    ['embedding_58[0][0]']        \n",
            "                                                                                                  \n",
            " embedding_59 (Embedding)    (None, 400, 200)             4308000   ['main_input[0][0]']          \n",
            "                                                                                                  \n",
            " lambda_81 (Lambda)          (None, 150)                  0         ['conv1d_81[0][0]']           \n",
            "                                                                                                  \n",
            " lambda_82 (Lambda)          (None, 150)                  0         ['conv1d_82[0][0]']           \n",
            "                                                                                                  \n",
            " lambda_83 (Lambda)          (None, 150)                  0         ['conv1d_83[0][0]']           \n",
            "                                                                                                  \n",
            " lstm_27 (LSTM)              (None, 128)                  168448    ['embedding_59[0][0]']        \n",
            "                                                                                                  \n",
            " concatenate_54 (Concatenat  (None, 450)                  0         ['lambda_81[0][0]',           \n",
            " e)                                                                  'lambda_82[0][0]',           \n",
            "                                                                     'lambda_83[0][0]']           \n",
            "                                                                                                  \n",
            " concatenate_55 (Concatenat  (None, 578)                  0         ['lstm_27[0][0]',             \n",
            " e)                                                                  'concatenate_54[0][0]']      \n",
            "                                                                                                  \n",
            " dense_54 (Dense)            (None, 200)                  115800    ['concatenate_55[0][0]']      \n",
            "                                                                                                  \n",
            " dense_55 (Dense)            (None, 2)                    402       ['dense_54[0][0]']            \n",
            "                                                                                                  \n",
            "==================================================================================================\n",
            "Total params: 9351100 (35.67 MB)\n",
            "Trainable params: 9351100 (35.67 MB)\n",
            "Non-trainable params: 0 (0.00 Byte)\n",
            "__________________________________________________________________________________________________\n"
          ]
        }
      ]
    },
    {
      "cell_type": "markdown",
      "source": [
        "# Train model"
      ],
      "metadata": {
        "id": "ddrn3_-0iV8T"
      }
    },
    {
      "cell_type": "code",
      "source": [
        "X_train, X_test, y_train, y_test = train_test_split(selected_data[\"summary\"], selected_data[\"category\"], test_size=0.2)\n",
        "\n",
        "vectorizer = TfidfVectorizer(max_features = max_features)\n",
        "vectorizer = vectorizer.fit(X_train)"
      ],
      "metadata": {
        "id": "HJLzErmUDk35"
      },
      "execution_count": 221,
      "outputs": []
    },
    {
      "cell_type": "code",
      "source": [
        "tokenizer = Tokenizer()\n",
        "tokenizer.fit_on_texts(X_train)"
      ],
      "metadata": {
        "id": "LAvWGPr5kFpB"
      },
      "execution_count": 222,
      "outputs": []
    },
    {
      "cell_type": "code",
      "source": [
        "sequences_train = tokenizer.texts_to_sequences(X_train)\n",
        "sequences_train = sq.pad_sequences(sequences_train, maxlen=maxlen)\n",
        "\n",
        "sequences_test = tokenizer.texts_to_sequences(X_test)\n",
        "sequences_test = sq.pad_sequences(sequences_test, maxlen=maxlen)\n",
        "\n",
        "y_train = y_train.replace(14, 0)\n",
        "y_train_encoded = to_categorical(y_train, num_classes=2)\n",
        "\n",
        "y_test = y_test.replace(14, 0)\n",
        "y_test_encoded = to_categorical(y_test, num_classes=2)"
      ],
      "metadata": {
        "id": "RCslGbzkmDyo"
      },
      "execution_count": 223,
      "outputs": []
    },
    {
      "cell_type": "code",
      "source": [
        "sequences_train.shape, y_train_encoded.shape, sequences_test.shape, y_test_encoded.shape"
      ],
      "metadata": {
        "colab": {
          "base_uri": "https://localhost:8080/"
        },
        "id": "kKm0KbuNmONj",
        "outputId": "2251ef0d-5fd2-422e-f33f-c4b9d2408252"
      },
      "execution_count": 224,
      "outputs": [
        {
          "output_type": "execute_result",
          "data": {
            "text/plain": [
              "((7664, 400), (7664, 2), (1917, 400), (1917, 2))"
            ]
          },
          "metadata": {},
          "execution_count": 224
        }
      ]
    },
    {
      "cell_type": "code",
      "source": [
        "model.fit(sequences_train, y_train_encoded)"
      ],
      "metadata": {
        "colab": {
          "base_uri": "https://localhost:8080/"
        },
        "id": "qHKxYB7tiabV",
        "outputId": "5ec3f086-6d5a-4f79-a25e-5bd3dff25a31"
      },
      "execution_count": 225,
      "outputs": [
        {
          "output_type": "stream",
          "name": "stdout",
          "text": [
            "240/240 [==============================] - 27s 88ms/step - loss: 0.2221 - accuracy: 0.9027\n"
          ]
        },
        {
          "output_type": "execute_result",
          "data": {
            "text/plain": [
              "<keras.src.callbacks.History at 0x7a49f0b180a0>"
            ]
          },
          "metadata": {},
          "execution_count": 225
        }
      ]
    },
    {
      "cell_type": "code",
      "source": [
        "model.compile(loss='categorical_crossentropy',\n",
        "                  optimizer=\"adamax\",\n",
        "                  metrics=['accuracy'])\n",
        "score, acc = model.evaluate(sequences_test, y_test_encoded)\n",
        "print(\"Acc:\", acc)"
      ],
      "metadata": {
        "colab": {
          "base_uri": "https://localhost:8080/"
        },
        "id": "5fTOtRrn4bXh",
        "outputId": "ea39eb6d-fd4a-4448-9da9-b1b35fb72f8c"
      },
      "execution_count": 226,
      "outputs": [
        {
          "output_type": "stream",
          "name": "stdout",
          "text": [
            "60/60 [==============================] - 2s 11ms/step - loss: 0.1146 - accuracy: 0.9598\n",
            "Acc: 0.9598330855369568\n"
          ]
        }
      ]
    }
  ]
}